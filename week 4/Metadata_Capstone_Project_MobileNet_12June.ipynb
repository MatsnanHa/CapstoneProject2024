{
  "cells": [
    {
      "cell_type": "markdown",
      "metadata": {
        "id": "yYDaz8gAhYPT"
      },
      "source": [
        "Capstone Project Deteksi Sampah (Bangkit 2024 Batch 1)"
      ]
    },
    {
      "cell_type": "markdown",
      "metadata": {
        "id": "j2fMrS75hlOM"
      },
      "source": [
        "1. Import Required Libray"
      ]
    },
    {
      "cell_type": "code",
      "execution_count": 1,
      "metadata": {
        "colab": {
          "base_uri": "https://localhost:8080/"
        },
        "id": "mZ8xs-l5IMF1",
        "outputId": "92c92cc4-f908-4669-b7d3-4407b666a293"
      },
      "outputs": [
        {
          "output_type": "stream",
          "name": "stdout",
          "text": [
            "Collecting split-folders\n",
            "  Downloading split_folders-0.5.1-py3-none-any.whl (8.4 kB)\n",
            "Installing collected packages: split-folders\n",
            "Successfully installed split-folders-0.5.1\n",
            "Requirement already satisfied: opencv-python-headless in /usr/local/lib/python3.10/dist-packages (4.10.0.82)\n",
            "Requirement already satisfied: numpy>=1.21.2 in /usr/local/lib/python3.10/dist-packages (from opencv-python-headless) (1.25.2)\n",
            "Requirement already satisfied: keras==2.15.0 in /usr/local/lib/python3.10/dist-packages (2.15.0)\n",
            "Requirement already satisfied: tensorflow==2.15.0 in /usr/local/lib/python3.10/dist-packages (2.15.0)\n",
            "Requirement already satisfied: absl-py>=1.0.0 in /usr/local/lib/python3.10/dist-packages (from tensorflow==2.15.0) (1.4.0)\n",
            "Requirement already satisfied: astunparse>=1.6.0 in /usr/local/lib/python3.10/dist-packages (from tensorflow==2.15.0) (1.6.3)\n",
            "Requirement already satisfied: flatbuffers>=23.5.26 in /usr/local/lib/python3.10/dist-packages (from tensorflow==2.15.0) (24.3.25)\n",
            "Requirement already satisfied: gast!=0.5.0,!=0.5.1,!=0.5.2,>=0.2.1 in /usr/local/lib/python3.10/dist-packages (from tensorflow==2.15.0) (0.5.4)\n",
            "Requirement already satisfied: google-pasta>=0.1.1 in /usr/local/lib/python3.10/dist-packages (from tensorflow==2.15.0) (0.2.0)\n",
            "Requirement already satisfied: h5py>=2.9.0 in /usr/local/lib/python3.10/dist-packages (from tensorflow==2.15.0) (3.9.0)\n",
            "Requirement already satisfied: libclang>=13.0.0 in /usr/local/lib/python3.10/dist-packages (from tensorflow==2.15.0) (18.1.1)\n",
            "Requirement already satisfied: ml-dtypes~=0.2.0 in /usr/local/lib/python3.10/dist-packages (from tensorflow==2.15.0) (0.2.0)\n",
            "Requirement already satisfied: numpy<2.0.0,>=1.23.5 in /usr/local/lib/python3.10/dist-packages (from tensorflow==2.15.0) (1.25.2)\n",
            "Requirement already satisfied: opt-einsum>=2.3.2 in /usr/local/lib/python3.10/dist-packages (from tensorflow==2.15.0) (3.3.0)\n",
            "Requirement already satisfied: packaging in /usr/local/lib/python3.10/dist-packages (from tensorflow==2.15.0) (24.0)\n",
            "Requirement already satisfied: protobuf!=4.21.0,!=4.21.1,!=4.21.2,!=4.21.3,!=4.21.4,!=4.21.5,<5.0.0dev,>=3.20.3 in /usr/local/lib/python3.10/dist-packages (from tensorflow==2.15.0) (3.20.3)\n",
            "Requirement already satisfied: setuptools in /usr/local/lib/python3.10/dist-packages (from tensorflow==2.15.0) (67.7.2)\n",
            "Requirement already satisfied: six>=1.12.0 in /usr/local/lib/python3.10/dist-packages (from tensorflow==2.15.0) (1.16.0)\n",
            "Requirement already satisfied: termcolor>=1.1.0 in /usr/local/lib/python3.10/dist-packages (from tensorflow==2.15.0) (2.4.0)\n",
            "Requirement already satisfied: typing-extensions>=3.6.6 in /usr/local/lib/python3.10/dist-packages (from tensorflow==2.15.0) (4.12.1)\n",
            "Requirement already satisfied: wrapt<1.15,>=1.11.0 in /usr/local/lib/python3.10/dist-packages (from tensorflow==2.15.0) (1.14.1)\n",
            "Requirement already satisfied: tensorflow-io-gcs-filesystem>=0.23.1 in /usr/local/lib/python3.10/dist-packages (from tensorflow==2.15.0) (0.37.0)\n",
            "Requirement already satisfied: grpcio<2.0,>=1.24.3 in /usr/local/lib/python3.10/dist-packages (from tensorflow==2.15.0) (1.64.1)\n",
            "Requirement already satisfied: tensorboard<2.16,>=2.15 in /usr/local/lib/python3.10/dist-packages (from tensorflow==2.15.0) (2.15.2)\n",
            "Requirement already satisfied: tensorflow-estimator<2.16,>=2.15.0 in /usr/local/lib/python3.10/dist-packages (from tensorflow==2.15.0) (2.15.0)\n",
            "Requirement already satisfied: wheel<1.0,>=0.23.0 in /usr/local/lib/python3.10/dist-packages (from astunparse>=1.6.0->tensorflow==2.15.0) (0.43.0)\n",
            "Requirement already satisfied: google-auth<3,>=1.6.3 in /usr/local/lib/python3.10/dist-packages (from tensorboard<2.16,>=2.15->tensorflow==2.15.0) (2.27.0)\n",
            "Requirement already satisfied: google-auth-oauthlib<2,>=0.5 in /usr/local/lib/python3.10/dist-packages (from tensorboard<2.16,>=2.15->tensorflow==2.15.0) (1.2.0)\n",
            "Requirement already satisfied: markdown>=2.6.8 in /usr/local/lib/python3.10/dist-packages (from tensorboard<2.16,>=2.15->tensorflow==2.15.0) (3.6)\n",
            "Requirement already satisfied: requests<3,>=2.21.0 in /usr/local/lib/python3.10/dist-packages (from tensorboard<2.16,>=2.15->tensorflow==2.15.0) (2.31.0)\n",
            "Requirement already satisfied: tensorboard-data-server<0.8.0,>=0.7.0 in /usr/local/lib/python3.10/dist-packages (from tensorboard<2.16,>=2.15->tensorflow==2.15.0) (0.7.2)\n",
            "Requirement already satisfied: werkzeug>=1.0.1 in /usr/local/lib/python3.10/dist-packages (from tensorboard<2.16,>=2.15->tensorflow==2.15.0) (3.0.3)\n",
            "Requirement already satisfied: cachetools<6.0,>=2.0.0 in /usr/local/lib/python3.10/dist-packages (from google-auth<3,>=1.6.3->tensorboard<2.16,>=2.15->tensorflow==2.15.0) (5.3.3)\n",
            "Requirement already satisfied: pyasn1-modules>=0.2.1 in /usr/local/lib/python3.10/dist-packages (from google-auth<3,>=1.6.3->tensorboard<2.16,>=2.15->tensorflow==2.15.0) (0.4.0)\n",
            "Requirement already satisfied: rsa<5,>=3.1.4 in /usr/local/lib/python3.10/dist-packages (from google-auth<3,>=1.6.3->tensorboard<2.16,>=2.15->tensorflow==2.15.0) (4.9)\n",
            "Requirement already satisfied: requests-oauthlib>=0.7.0 in /usr/local/lib/python3.10/dist-packages (from google-auth-oauthlib<2,>=0.5->tensorboard<2.16,>=2.15->tensorflow==2.15.0) (1.3.1)\n",
            "Requirement already satisfied: charset-normalizer<4,>=2 in /usr/local/lib/python3.10/dist-packages (from requests<3,>=2.21.0->tensorboard<2.16,>=2.15->tensorflow==2.15.0) (3.3.2)\n",
            "Requirement already satisfied: idna<4,>=2.5 in /usr/local/lib/python3.10/dist-packages (from requests<3,>=2.21.0->tensorboard<2.16,>=2.15->tensorflow==2.15.0) (3.7)\n",
            "Requirement already satisfied: urllib3<3,>=1.21.1 in /usr/local/lib/python3.10/dist-packages (from requests<3,>=2.21.0->tensorboard<2.16,>=2.15->tensorflow==2.15.0) (2.0.7)\n",
            "Requirement already satisfied: certifi>=2017.4.17 in /usr/local/lib/python3.10/dist-packages (from requests<3,>=2.21.0->tensorboard<2.16,>=2.15->tensorflow==2.15.0) (2024.6.2)\n",
            "Requirement already satisfied: MarkupSafe>=2.1.1 in /usr/local/lib/python3.10/dist-packages (from werkzeug>=1.0.1->tensorboard<2.16,>=2.15->tensorflow==2.15.0) (2.1.5)\n",
            "Requirement already satisfied: pyasn1<0.7.0,>=0.4.6 in /usr/local/lib/python3.10/dist-packages (from pyasn1-modules>=0.2.1->google-auth<3,>=1.6.3->tensorboard<2.16,>=2.15->tensorflow==2.15.0) (0.6.0)\n",
            "Requirement already satisfied: oauthlib>=3.0.0 in /usr/local/lib/python3.10/dist-packages (from requests-oauthlib>=0.7.0->google-auth-oauthlib<2,>=0.5->tensorboard<2.16,>=2.15->tensorflow==2.15.0) (3.2.2)\n"
          ]
        }
      ],
      "source": [
        "!pip install split-folders\n",
        "!pip install opencv-python-headless\n",
        "!pip install keras==2.15.0 tensorflow==2.15.0\n"
      ]
    },
    {
      "cell_type": "code",
      "execution_count": 2,
      "metadata": {
        "id": "5K6FtlERnFFj"
      },
      "outputs": [],
      "source": [
        "import numpy as np\n",
        "import pandas as pd\n",
        "import matplotlib.pyplot as plt\n",
        "import seaborn as sns\n",
        "import os\n",
        "import tensorflow as tf\n",
        "import splitfolders\n",
        "from tensorflow import keras\n",
        "from keras.applications import MobileNetV2\n",
        "from keras.preprocessing import image\n",
        "from keras.preprocessing.image import ImageDataGenerator\n",
        "from sklearn.metrics import confusion_matrix, classification_report\n",
        "from keras.models import Sequential\n",
        "from sklearn import metrics"
      ]
    },
    {
      "cell_type": "code",
      "source": [
        "import importlib.metadata\n",
        "\n",
        "libraries = [\n",
        "    'numpy',\n",
        "    'pandas',\n",
        "    'matplotlib',\n",
        "    'seaborn',\n",
        "    'tensorflow',\n",
        "    'splitfolders',\n",
        "    'keras',\n",
        "    'scikit-learn'\n",
        "]\n",
        "\n",
        "\n",
        "for lib in libraries:\n",
        "    try:\n",
        "        print(f'{lib}: {importlib.metadata.version(lib)}')\n",
        "    except importlib.metadata.PackageNotFoundError:\n",
        "        print(f'{lib}: Tidak ditemukan')\n"
      ],
      "metadata": {
        "colab": {
          "base_uri": "https://localhost:8080/"
        },
        "id": "DxYuAzw0d6DV",
        "outputId": "77d86d3b-9b46-440b-a5ac-eec1d2d45396"
      },
      "execution_count": 3,
      "outputs": [
        {
          "output_type": "stream",
          "name": "stdout",
          "text": [
            "numpy: 1.25.2\n",
            "pandas: 2.0.3\n",
            "matplotlib: 3.7.1\n",
            "seaborn: 0.13.1\n",
            "tensorflow: 2.15.0\n",
            "splitfolders: Tidak ditemukan\n",
            "keras: 2.15.0\n",
            "scikit-learn: 1.2.2\n"
          ]
        }
      ]
    },
    {
      "cell_type": "markdown",
      "metadata": {
        "id": "D7opjlqPhlo6"
      },
      "source": [
        "2. Load and Split Dataset"
      ]
    },
    {
      "cell_type": "code",
      "source": [
        "from google.colab import drive\n",
        "drive.mount('/content/drive')"
      ],
      "metadata": {
        "colab": {
          "base_uri": "https://localhost:8080/"
        },
        "id": "RmCyZ5wjNpID",
        "outputId": "6364d56f-abd5-4b42-cbb8-073406ad7cab"
      },
      "execution_count": 4,
      "outputs": [
        {
          "output_type": "stream",
          "name": "stdout",
          "text": [
            "Mounted at /content/drive\n"
          ]
        }
      ]
    },
    {
      "cell_type": "code",
      "execution_count": 5,
      "metadata": {
        "id": "wYYrkFDZsmIH"
      },
      "outputs": [],
      "source": [
        "dataset_path = \"/content/drive/MyDrive/Gambar Sampah\""
      ]
    },
    {
      "cell_type": "code",
      "execution_count": 6,
      "metadata": {
        "colab": {
          "base_uri": "https://localhost:8080/"
        },
        "id": "hlxDkncpJEqd",
        "outputId": "0abf5bd0-bc88-4c64-db13-5878cb37eac8"
      },
      "outputs": [
        {
          "output_type": "stream",
          "name": "stdout",
          "text": [
            "['kaca', 'karton', 'kertas', 'logam', 'organik', 'plastik']\n"
          ]
        }
      ],
      "source": [
        "class_names = sorted(os.listdir(dataset_path))\n",
        "print(class_names)"
      ]
    },
    {
      "cell_type": "code",
      "execution_count": 7,
      "metadata": {
        "colab": {
          "base_uri": "https://localhost:8080/"
        },
        "id": "Ewusc1gfJhSO",
        "outputId": "f7dd74d1-0076-4b7a-b1f5-da1c8b3be08a"
      },
      "outputs": [
        {
          "output_type": "execute_result",
          "data": {
            "text/plain": [
              "[438, 404, 610, 411, 420, 550]"
            ]
          },
          "metadata": {},
          "execution_count": 7
        }
      ],
      "source": [
        "class_dis = [len(os.listdir(dataset_path + f\"/{name}\")) for name in class_names]\n",
        "class_dis"
      ]
    },
    {
      "cell_type": "code",
      "execution_count": 8,
      "metadata": {
        "colab": {
          "base_uri": "https://localhost:8080/"
        },
        "id": "tuTdHNkjH-vg",
        "outputId": "fe93fa4a-7ee1-4b33-bcdd-ff3171106226"
      },
      "outputs": [
        {
          "output_type": "stream",
          "name": "stderr",
          "text": [
            "Copying files: 2833 files [01:26, 32.83 files/s] \n"
          ]
        }
      ],
      "source": [
        "splitfolders.ratio(dataset_path,\n",
        "                   output=\"data_sampah\",\n",
        "                   seed=42,\n",
        "                   ratio=(.7, .2, .1),\n",
        "                   group_prefix=None)"
      ]
    },
    {
      "cell_type": "code",
      "execution_count": 9,
      "metadata": {
        "id": "UK3v5lNaIkjk"
      },
      "outputs": [],
      "source": [
        "training = os.path.join('data_sampah', 'train')\n",
        "validation = os.path.join('data_sampah', 'val')\n",
        "testing = os.path.join('data_sampah', 'test')"
      ]
    },
    {
      "cell_type": "markdown",
      "metadata": {
        "id": "mUW7g6sdGTol"
      },
      "source": [
        "Dataset Augmentation"
      ]
    },
    {
      "cell_type": "code",
      "execution_count": 10,
      "metadata": {
        "id": "XcEzzw_E9Qzw"
      },
      "outputs": [],
      "source": [
        "train_gen = ImageDataGenerator(rescale = 1.0 / 255.0,\n",
        "                                   zoom_range = 0.5,\n",
        "                                   rotation_range = 40,\n",
        "                                   width_shift_range = 0.3,\n",
        "                                   height_shift_range = 0.3,\n",
        "                                   shear_range = 0.3,\n",
        "                                   fill_mode ='nearest',\n",
        "                                   horizontal_flip = True,\n",
        "                                   vertical_flip = True,\n",
        "                                   brightness_range = [0.7, 1.3],\n",
        "                                   channel_shift_range = 30.0\n",
        "                                  )\n",
        "\n",
        "valid_gen = ImageDataGenerator(rescale = 1.0 / 255.0)\n",
        "\n",
        "test_gen  = ImageDataGenerator(rescale = 1.0 / 255.0)"
      ]
    },
    {
      "cell_type": "code",
      "execution_count": 11,
      "metadata": {
        "colab": {
          "base_uri": "https://localhost:8080/"
        },
        "id": "js-kxqq688g7",
        "outputId": "8fb70a62-cf37-483e-fb89-a84f29c5cc63"
      },
      "outputs": [
        {
          "output_type": "stream",
          "name": "stdout",
          "text": [
            "Found 1915 images belonging to 6 classes.\n",
            "Found 544 images belonging to 6 classes.\n",
            "Found 278 images belonging to 6 classes.\n"
          ]
        }
      ],
      "source": [
        "train_images = train_gen.flow_from_directory(\n",
        "    training,\n",
        "    target_size=(224, 224),\n",
        "    color_mode='rgb',\n",
        "    class_mode='categorical',\n",
        "    batch_size=32,\n",
        "    shuffle=True,\n",
        "    seed=42,\n",
        ")\n",
        "\n",
        "val_images = valid_gen.flow_from_directory(\n",
        "    validation,\n",
        "    target_size=(224, 224),\n",
        "    color_mode='rgb',\n",
        "    class_mode='categorical',\n",
        "    batch_size=32,\n",
        "    shuffle=True,\n",
        "    seed=42,\n",
        ")\n",
        "\n",
        "test_images = test_gen.flow_from_directory(\n",
        "    testing,\n",
        "    target_size=(224, 224),\n",
        "    color_mode='rgb',\n",
        "    class_mode='categorical',\n",
        "    batch_size=32,\n",
        "    shuffle=False,\n",
        "    seed=42\n",
        ")"
      ]
    },
    {
      "cell_type": "markdown",
      "metadata": {
        "id": "oYscFj0Chl5T"
      },
      "source": [
        "3. Build Model with CNN"
      ]
    },
    {
      "cell_type": "code",
      "execution_count": 12,
      "metadata": {
        "colab": {
          "base_uri": "https://localhost:8080/"
        },
        "id": "wsAXqwrR8vcr",
        "outputId": "752f5764-fd0a-476d-a2ec-17049b0c4cb3"
      },
      "outputs": [
        {
          "output_type": "stream",
          "name": "stdout",
          "text": [
            "Downloading data from https://storage.googleapis.com/tensorflow/keras-applications/mobilenet_v2/mobilenet_v2_weights_tf_dim_ordering_tf_kernels_1.0_224_no_top.h5\n",
            "9406464/9406464 [==============================] - 1s 0us/step\n"
          ]
        }
      ],
      "source": [
        "pretrained_model = tf.keras.applications.MobileNetV2(\n",
        "    input_shape=(224, 224, 3),\n",
        "    include_top=False,\n",
        "    weights='imagenet',\n",
        "    pooling='avg'\n",
        ")\n",
        "\n",
        "pretrained_model.trainable = True\n",
        "for layer in pretrained_model.layers[:-20]:  # Freeze all layers except the last 20\n",
        "    layer.trainable = False\n",
        "\n",
        "inputs = pretrained_model.input\n",
        "x = tf.keras.layers.Dense(256, activation='relu', kernel_regularizer=tf.keras.regularizers.l2(0.01))(pretrained_model.output)\n",
        "x = tf.keras.layers.Dropout(0.5)(x)\n",
        "outputs = tf.keras.layers.Dense(6, activation='softmax')(x)\n",
        "\n",
        "model = tf.keras.Model(inputs=inputs, outputs=outputs)"
      ]
    },
    {
      "cell_type": "code",
      "execution_count": 13,
      "metadata": {
        "colab": {
          "base_uri": "https://localhost:8080/"
        },
        "id": "cYFTWL_sxdW_",
        "outputId": "9c2fb377-c14c-49bd-ea11-8ae51881f07d"
      },
      "outputs": [
        {
          "output_type": "stream",
          "name": "stdout",
          "text": [
            "Model: \"model\"\n",
            "__________________________________________________________________________________________________\n",
            " Layer (type)                Output Shape                 Param #   Connected to                  \n",
            "==================================================================================================\n",
            " input_1 (InputLayer)        [(None, 224, 224, 3)]        0         []                            \n",
            "                                                                                                  \n",
            " Conv1 (Conv2D)              (None, 112, 112, 32)         864       ['input_1[0][0]']             \n",
            "                                                                                                  \n",
            " bn_Conv1 (BatchNormalizati  (None, 112, 112, 32)         128       ['Conv1[0][0]']               \n",
            " on)                                                                                              \n",
            "                                                                                                  \n",
            " Conv1_relu (ReLU)           (None, 112, 112, 32)         0         ['bn_Conv1[0][0]']            \n",
            "                                                                                                  \n",
            " expanded_conv_depthwise (D  (None, 112, 112, 32)         288       ['Conv1_relu[0][0]']          \n",
            " epthwiseConv2D)                                                                                  \n",
            "                                                                                                  \n",
            " expanded_conv_depthwise_BN  (None, 112, 112, 32)         128       ['expanded_conv_depthwise[0][0\n",
            "  (BatchNormalization)                                              ]']                           \n",
            "                                                                                                  \n",
            " expanded_conv_depthwise_re  (None, 112, 112, 32)         0         ['expanded_conv_depthwise_BN[0\n",
            " lu (ReLU)                                                          ][0]']                        \n",
            "                                                                                                  \n",
            " expanded_conv_project (Con  (None, 112, 112, 16)         512       ['expanded_conv_depthwise_relu\n",
            " v2D)                                                               [0][0]']                      \n",
            "                                                                                                  \n",
            " expanded_conv_project_BN (  (None, 112, 112, 16)         64        ['expanded_conv_project[0][0]'\n",
            " BatchNormalization)                                                ]                             \n",
            "                                                                                                  \n",
            " block_1_expand (Conv2D)     (None, 112, 112, 96)         1536      ['expanded_conv_project_BN[0][\n",
            "                                                                    0]']                          \n",
            "                                                                                                  \n",
            " block_1_expand_BN (BatchNo  (None, 112, 112, 96)         384       ['block_1_expand[0][0]']      \n",
            " rmalization)                                                                                     \n",
            "                                                                                                  \n",
            " block_1_expand_relu (ReLU)  (None, 112, 112, 96)         0         ['block_1_expand_BN[0][0]']   \n",
            "                                                                                                  \n",
            " block_1_pad (ZeroPadding2D  (None, 113, 113, 96)         0         ['block_1_expand_relu[0][0]'] \n",
            " )                                                                                                \n",
            "                                                                                                  \n",
            " block_1_depthwise (Depthwi  (None, 56, 56, 96)           864       ['block_1_pad[0][0]']         \n",
            " seConv2D)                                                                                        \n",
            "                                                                                                  \n",
            " block_1_depthwise_BN (Batc  (None, 56, 56, 96)           384       ['block_1_depthwise[0][0]']   \n",
            " hNormalization)                                                                                  \n",
            "                                                                                                  \n",
            " block_1_depthwise_relu (Re  (None, 56, 56, 96)           0         ['block_1_depthwise_BN[0][0]']\n",
            " LU)                                                                                              \n",
            "                                                                                                  \n",
            " block_1_project (Conv2D)    (None, 56, 56, 24)           2304      ['block_1_depthwise_relu[0][0]\n",
            "                                                                    ']                            \n",
            "                                                                                                  \n",
            " block_1_project_BN (BatchN  (None, 56, 56, 24)           96        ['block_1_project[0][0]']     \n",
            " ormalization)                                                                                    \n",
            "                                                                                                  \n",
            " block_2_expand (Conv2D)     (None, 56, 56, 144)          3456      ['block_1_project_BN[0][0]']  \n",
            "                                                                                                  \n",
            " block_2_expand_BN (BatchNo  (None, 56, 56, 144)          576       ['block_2_expand[0][0]']      \n",
            " rmalization)                                                                                     \n",
            "                                                                                                  \n",
            " block_2_expand_relu (ReLU)  (None, 56, 56, 144)          0         ['block_2_expand_BN[0][0]']   \n",
            "                                                                                                  \n",
            " block_2_depthwise (Depthwi  (None, 56, 56, 144)          1296      ['block_2_expand_relu[0][0]'] \n",
            " seConv2D)                                                                                        \n",
            "                                                                                                  \n",
            " block_2_depthwise_BN (Batc  (None, 56, 56, 144)          576       ['block_2_depthwise[0][0]']   \n",
            " hNormalization)                                                                                  \n",
            "                                                                                                  \n",
            " block_2_depthwise_relu (Re  (None, 56, 56, 144)          0         ['block_2_depthwise_BN[0][0]']\n",
            " LU)                                                                                              \n",
            "                                                                                                  \n",
            " block_2_project (Conv2D)    (None, 56, 56, 24)           3456      ['block_2_depthwise_relu[0][0]\n",
            "                                                                    ']                            \n",
            "                                                                                                  \n",
            " block_2_project_BN (BatchN  (None, 56, 56, 24)           96        ['block_2_project[0][0]']     \n",
            " ormalization)                                                                                    \n",
            "                                                                                                  \n",
            " block_2_add (Add)           (None, 56, 56, 24)           0         ['block_1_project_BN[0][0]',  \n",
            "                                                                     'block_2_project_BN[0][0]']  \n",
            "                                                                                                  \n",
            " block_3_expand (Conv2D)     (None, 56, 56, 144)          3456      ['block_2_add[0][0]']         \n",
            "                                                                                                  \n",
            " block_3_expand_BN (BatchNo  (None, 56, 56, 144)          576       ['block_3_expand[0][0]']      \n",
            " rmalization)                                                                                     \n",
            "                                                                                                  \n",
            " block_3_expand_relu (ReLU)  (None, 56, 56, 144)          0         ['block_3_expand_BN[0][0]']   \n",
            "                                                                                                  \n",
            " block_3_pad (ZeroPadding2D  (None, 57, 57, 144)          0         ['block_3_expand_relu[0][0]'] \n",
            " )                                                                                                \n",
            "                                                                                                  \n",
            " block_3_depthwise (Depthwi  (None, 28, 28, 144)          1296      ['block_3_pad[0][0]']         \n",
            " seConv2D)                                                                                        \n",
            "                                                                                                  \n",
            " block_3_depthwise_BN (Batc  (None, 28, 28, 144)          576       ['block_3_depthwise[0][0]']   \n",
            " hNormalization)                                                                                  \n",
            "                                                                                                  \n",
            " block_3_depthwise_relu (Re  (None, 28, 28, 144)          0         ['block_3_depthwise_BN[0][0]']\n",
            " LU)                                                                                              \n",
            "                                                                                                  \n",
            " block_3_project (Conv2D)    (None, 28, 28, 32)           4608      ['block_3_depthwise_relu[0][0]\n",
            "                                                                    ']                            \n",
            "                                                                                                  \n",
            " block_3_project_BN (BatchN  (None, 28, 28, 32)           128       ['block_3_project[0][0]']     \n",
            " ormalization)                                                                                    \n",
            "                                                                                                  \n",
            " block_4_expand (Conv2D)     (None, 28, 28, 192)          6144      ['block_3_project_BN[0][0]']  \n",
            "                                                                                                  \n",
            " block_4_expand_BN (BatchNo  (None, 28, 28, 192)          768       ['block_4_expand[0][0]']      \n",
            " rmalization)                                                                                     \n",
            "                                                                                                  \n",
            " block_4_expand_relu (ReLU)  (None, 28, 28, 192)          0         ['block_4_expand_BN[0][0]']   \n",
            "                                                                                                  \n",
            " block_4_depthwise (Depthwi  (None, 28, 28, 192)          1728      ['block_4_expand_relu[0][0]'] \n",
            " seConv2D)                                                                                        \n",
            "                                                                                                  \n",
            " block_4_depthwise_BN (Batc  (None, 28, 28, 192)          768       ['block_4_depthwise[0][0]']   \n",
            " hNormalization)                                                                                  \n",
            "                                                                                                  \n",
            " block_4_depthwise_relu (Re  (None, 28, 28, 192)          0         ['block_4_depthwise_BN[0][0]']\n",
            " LU)                                                                                              \n",
            "                                                                                                  \n",
            " block_4_project (Conv2D)    (None, 28, 28, 32)           6144      ['block_4_depthwise_relu[0][0]\n",
            "                                                                    ']                            \n",
            "                                                                                                  \n",
            " block_4_project_BN (BatchN  (None, 28, 28, 32)           128       ['block_4_project[0][0]']     \n",
            " ormalization)                                                                                    \n",
            "                                                                                                  \n",
            " block_4_add (Add)           (None, 28, 28, 32)           0         ['block_3_project_BN[0][0]',  \n",
            "                                                                     'block_4_project_BN[0][0]']  \n",
            "                                                                                                  \n",
            " block_5_expand (Conv2D)     (None, 28, 28, 192)          6144      ['block_4_add[0][0]']         \n",
            "                                                                                                  \n",
            " block_5_expand_BN (BatchNo  (None, 28, 28, 192)          768       ['block_5_expand[0][0]']      \n",
            " rmalization)                                                                                     \n",
            "                                                                                                  \n",
            " block_5_expand_relu (ReLU)  (None, 28, 28, 192)          0         ['block_5_expand_BN[0][0]']   \n",
            "                                                                                                  \n",
            " block_5_depthwise (Depthwi  (None, 28, 28, 192)          1728      ['block_5_expand_relu[0][0]'] \n",
            " seConv2D)                                                                                        \n",
            "                                                                                                  \n",
            " block_5_depthwise_BN (Batc  (None, 28, 28, 192)          768       ['block_5_depthwise[0][0]']   \n",
            " hNormalization)                                                                                  \n",
            "                                                                                                  \n",
            " block_5_depthwise_relu (Re  (None, 28, 28, 192)          0         ['block_5_depthwise_BN[0][0]']\n",
            " LU)                                                                                              \n",
            "                                                                                                  \n",
            " block_5_project (Conv2D)    (None, 28, 28, 32)           6144      ['block_5_depthwise_relu[0][0]\n",
            "                                                                    ']                            \n",
            "                                                                                                  \n",
            " block_5_project_BN (BatchN  (None, 28, 28, 32)           128       ['block_5_project[0][0]']     \n",
            " ormalization)                                                                                    \n",
            "                                                                                                  \n",
            " block_5_add (Add)           (None, 28, 28, 32)           0         ['block_4_add[0][0]',         \n",
            "                                                                     'block_5_project_BN[0][0]']  \n",
            "                                                                                                  \n",
            " block_6_expand (Conv2D)     (None, 28, 28, 192)          6144      ['block_5_add[0][0]']         \n",
            "                                                                                                  \n",
            " block_6_expand_BN (BatchNo  (None, 28, 28, 192)          768       ['block_6_expand[0][0]']      \n",
            " rmalization)                                                                                     \n",
            "                                                                                                  \n",
            " block_6_expand_relu (ReLU)  (None, 28, 28, 192)          0         ['block_6_expand_BN[0][0]']   \n",
            "                                                                                                  \n",
            " block_6_pad (ZeroPadding2D  (None, 29, 29, 192)          0         ['block_6_expand_relu[0][0]'] \n",
            " )                                                                                                \n",
            "                                                                                                  \n",
            " block_6_depthwise (Depthwi  (None, 14, 14, 192)          1728      ['block_6_pad[0][0]']         \n",
            " seConv2D)                                                                                        \n",
            "                                                                                                  \n",
            " block_6_depthwise_BN (Batc  (None, 14, 14, 192)          768       ['block_6_depthwise[0][0]']   \n",
            " hNormalization)                                                                                  \n",
            "                                                                                                  \n",
            " block_6_depthwise_relu (Re  (None, 14, 14, 192)          0         ['block_6_depthwise_BN[0][0]']\n",
            " LU)                                                                                              \n",
            "                                                                                                  \n",
            " block_6_project (Conv2D)    (None, 14, 14, 64)           12288     ['block_6_depthwise_relu[0][0]\n",
            "                                                                    ']                            \n",
            "                                                                                                  \n",
            " block_6_project_BN (BatchN  (None, 14, 14, 64)           256       ['block_6_project[0][0]']     \n",
            " ormalization)                                                                                    \n",
            "                                                                                                  \n",
            " block_7_expand (Conv2D)     (None, 14, 14, 384)          24576     ['block_6_project_BN[0][0]']  \n",
            "                                                                                                  \n",
            " block_7_expand_BN (BatchNo  (None, 14, 14, 384)          1536      ['block_7_expand[0][0]']      \n",
            " rmalization)                                                                                     \n",
            "                                                                                                  \n",
            " block_7_expand_relu (ReLU)  (None, 14, 14, 384)          0         ['block_7_expand_BN[0][0]']   \n",
            "                                                                                                  \n",
            " block_7_depthwise (Depthwi  (None, 14, 14, 384)          3456      ['block_7_expand_relu[0][0]'] \n",
            " seConv2D)                                                                                        \n",
            "                                                                                                  \n",
            " block_7_depthwise_BN (Batc  (None, 14, 14, 384)          1536      ['block_7_depthwise[0][0]']   \n",
            " hNormalization)                                                                                  \n",
            "                                                                                                  \n",
            " block_7_depthwise_relu (Re  (None, 14, 14, 384)          0         ['block_7_depthwise_BN[0][0]']\n",
            " LU)                                                                                              \n",
            "                                                                                                  \n",
            " block_7_project (Conv2D)    (None, 14, 14, 64)           24576     ['block_7_depthwise_relu[0][0]\n",
            "                                                                    ']                            \n",
            "                                                                                                  \n",
            " block_7_project_BN (BatchN  (None, 14, 14, 64)           256       ['block_7_project[0][0]']     \n",
            " ormalization)                                                                                    \n",
            "                                                                                                  \n",
            " block_7_add (Add)           (None, 14, 14, 64)           0         ['block_6_project_BN[0][0]',  \n",
            "                                                                     'block_7_project_BN[0][0]']  \n",
            "                                                                                                  \n",
            " block_8_expand (Conv2D)     (None, 14, 14, 384)          24576     ['block_7_add[0][0]']         \n",
            "                                                                                                  \n",
            " block_8_expand_BN (BatchNo  (None, 14, 14, 384)          1536      ['block_8_expand[0][0]']      \n",
            " rmalization)                                                                                     \n",
            "                                                                                                  \n",
            " block_8_expand_relu (ReLU)  (None, 14, 14, 384)          0         ['block_8_expand_BN[0][0]']   \n",
            "                                                                                                  \n",
            " block_8_depthwise (Depthwi  (None, 14, 14, 384)          3456      ['block_8_expand_relu[0][0]'] \n",
            " seConv2D)                                                                                        \n",
            "                                                                                                  \n",
            " block_8_depthwise_BN (Batc  (None, 14, 14, 384)          1536      ['block_8_depthwise[0][0]']   \n",
            " hNormalization)                                                                                  \n",
            "                                                                                                  \n",
            " block_8_depthwise_relu (Re  (None, 14, 14, 384)          0         ['block_8_depthwise_BN[0][0]']\n",
            " LU)                                                                                              \n",
            "                                                                                                  \n",
            " block_8_project (Conv2D)    (None, 14, 14, 64)           24576     ['block_8_depthwise_relu[0][0]\n",
            "                                                                    ']                            \n",
            "                                                                                                  \n",
            " block_8_project_BN (BatchN  (None, 14, 14, 64)           256       ['block_8_project[0][0]']     \n",
            " ormalization)                                                                                    \n",
            "                                                                                                  \n",
            " block_8_add (Add)           (None, 14, 14, 64)           0         ['block_7_add[0][0]',         \n",
            "                                                                     'block_8_project_BN[0][0]']  \n",
            "                                                                                                  \n",
            " block_9_expand (Conv2D)     (None, 14, 14, 384)          24576     ['block_8_add[0][0]']         \n",
            "                                                                                                  \n",
            " block_9_expand_BN (BatchNo  (None, 14, 14, 384)          1536      ['block_9_expand[0][0]']      \n",
            " rmalization)                                                                                     \n",
            "                                                                                                  \n",
            " block_9_expand_relu (ReLU)  (None, 14, 14, 384)          0         ['block_9_expand_BN[0][0]']   \n",
            "                                                                                                  \n",
            " block_9_depthwise (Depthwi  (None, 14, 14, 384)          3456      ['block_9_expand_relu[0][0]'] \n",
            " seConv2D)                                                                                        \n",
            "                                                                                                  \n",
            " block_9_depthwise_BN (Batc  (None, 14, 14, 384)          1536      ['block_9_depthwise[0][0]']   \n",
            " hNormalization)                                                                                  \n",
            "                                                                                                  \n",
            " block_9_depthwise_relu (Re  (None, 14, 14, 384)          0         ['block_9_depthwise_BN[0][0]']\n",
            " LU)                                                                                              \n",
            "                                                                                                  \n",
            " block_9_project (Conv2D)    (None, 14, 14, 64)           24576     ['block_9_depthwise_relu[0][0]\n",
            "                                                                    ']                            \n",
            "                                                                                                  \n",
            " block_9_project_BN (BatchN  (None, 14, 14, 64)           256       ['block_9_project[0][0]']     \n",
            " ormalization)                                                                                    \n",
            "                                                                                                  \n",
            " block_9_add (Add)           (None, 14, 14, 64)           0         ['block_8_add[0][0]',         \n",
            "                                                                     'block_9_project_BN[0][0]']  \n",
            "                                                                                                  \n",
            " block_10_expand (Conv2D)    (None, 14, 14, 384)          24576     ['block_9_add[0][0]']         \n",
            "                                                                                                  \n",
            " block_10_expand_BN (BatchN  (None, 14, 14, 384)          1536      ['block_10_expand[0][0]']     \n",
            " ormalization)                                                                                    \n",
            "                                                                                                  \n",
            " block_10_expand_relu (ReLU  (None, 14, 14, 384)          0         ['block_10_expand_BN[0][0]']  \n",
            " )                                                                                                \n",
            "                                                                                                  \n",
            " block_10_depthwise (Depthw  (None, 14, 14, 384)          3456      ['block_10_expand_relu[0][0]']\n",
            " iseConv2D)                                                                                       \n",
            "                                                                                                  \n",
            " block_10_depthwise_BN (Bat  (None, 14, 14, 384)          1536      ['block_10_depthwise[0][0]']  \n",
            " chNormalization)                                                                                 \n",
            "                                                                                                  \n",
            " block_10_depthwise_relu (R  (None, 14, 14, 384)          0         ['block_10_depthwise_BN[0][0]'\n",
            " eLU)                                                               ]                             \n",
            "                                                                                                  \n",
            " block_10_project (Conv2D)   (None, 14, 14, 96)           36864     ['block_10_depthwise_relu[0][0\n",
            "                                                                    ]']                           \n",
            "                                                                                                  \n",
            " block_10_project_BN (Batch  (None, 14, 14, 96)           384       ['block_10_project[0][0]']    \n",
            " Normalization)                                                                                   \n",
            "                                                                                                  \n",
            " block_11_expand (Conv2D)    (None, 14, 14, 576)          55296     ['block_10_project_BN[0][0]'] \n",
            "                                                                                                  \n",
            " block_11_expand_BN (BatchN  (None, 14, 14, 576)          2304      ['block_11_expand[0][0]']     \n",
            " ormalization)                                                                                    \n",
            "                                                                                                  \n",
            " block_11_expand_relu (ReLU  (None, 14, 14, 576)          0         ['block_11_expand_BN[0][0]']  \n",
            " )                                                                                                \n",
            "                                                                                                  \n",
            " block_11_depthwise (Depthw  (None, 14, 14, 576)          5184      ['block_11_expand_relu[0][0]']\n",
            " iseConv2D)                                                                                       \n",
            "                                                                                                  \n",
            " block_11_depthwise_BN (Bat  (None, 14, 14, 576)          2304      ['block_11_depthwise[0][0]']  \n",
            " chNormalization)                                                                                 \n",
            "                                                                                                  \n",
            " block_11_depthwise_relu (R  (None, 14, 14, 576)          0         ['block_11_depthwise_BN[0][0]'\n",
            " eLU)                                                               ]                             \n",
            "                                                                                                  \n",
            " block_11_project (Conv2D)   (None, 14, 14, 96)           55296     ['block_11_depthwise_relu[0][0\n",
            "                                                                    ]']                           \n",
            "                                                                                                  \n",
            " block_11_project_BN (Batch  (None, 14, 14, 96)           384       ['block_11_project[0][0]']    \n",
            " Normalization)                                                                                   \n",
            "                                                                                                  \n",
            " block_11_add (Add)          (None, 14, 14, 96)           0         ['block_10_project_BN[0][0]', \n",
            "                                                                     'block_11_project_BN[0][0]'] \n",
            "                                                                                                  \n",
            " block_12_expand (Conv2D)    (None, 14, 14, 576)          55296     ['block_11_add[0][0]']        \n",
            "                                                                                                  \n",
            " block_12_expand_BN (BatchN  (None, 14, 14, 576)          2304      ['block_12_expand[0][0]']     \n",
            " ormalization)                                                                                    \n",
            "                                                                                                  \n",
            " block_12_expand_relu (ReLU  (None, 14, 14, 576)          0         ['block_12_expand_BN[0][0]']  \n",
            " )                                                                                                \n",
            "                                                                                                  \n",
            " block_12_depthwise (Depthw  (None, 14, 14, 576)          5184      ['block_12_expand_relu[0][0]']\n",
            " iseConv2D)                                                                                       \n",
            "                                                                                                  \n",
            " block_12_depthwise_BN (Bat  (None, 14, 14, 576)          2304      ['block_12_depthwise[0][0]']  \n",
            " chNormalization)                                                                                 \n",
            "                                                                                                  \n",
            " block_12_depthwise_relu (R  (None, 14, 14, 576)          0         ['block_12_depthwise_BN[0][0]'\n",
            " eLU)                                                               ]                             \n",
            "                                                                                                  \n",
            " block_12_project (Conv2D)   (None, 14, 14, 96)           55296     ['block_12_depthwise_relu[0][0\n",
            "                                                                    ]']                           \n",
            "                                                                                                  \n",
            " block_12_project_BN (Batch  (None, 14, 14, 96)           384       ['block_12_project[0][0]']    \n",
            " Normalization)                                                                                   \n",
            "                                                                                                  \n",
            " block_12_add (Add)          (None, 14, 14, 96)           0         ['block_11_add[0][0]',        \n",
            "                                                                     'block_12_project_BN[0][0]'] \n",
            "                                                                                                  \n",
            " block_13_expand (Conv2D)    (None, 14, 14, 576)          55296     ['block_12_add[0][0]']        \n",
            "                                                                                                  \n",
            " block_13_expand_BN (BatchN  (None, 14, 14, 576)          2304      ['block_13_expand[0][0]']     \n",
            " ormalization)                                                                                    \n",
            "                                                                                                  \n",
            " block_13_expand_relu (ReLU  (None, 14, 14, 576)          0         ['block_13_expand_BN[0][0]']  \n",
            " )                                                                                                \n",
            "                                                                                                  \n",
            " block_13_pad (ZeroPadding2  (None, 15, 15, 576)          0         ['block_13_expand_relu[0][0]']\n",
            " D)                                                                                               \n",
            "                                                                                                  \n",
            " block_13_depthwise (Depthw  (None, 7, 7, 576)            5184      ['block_13_pad[0][0]']        \n",
            " iseConv2D)                                                                                       \n",
            "                                                                                                  \n",
            " block_13_depthwise_BN (Bat  (None, 7, 7, 576)            2304      ['block_13_depthwise[0][0]']  \n",
            " chNormalization)                                                                                 \n",
            "                                                                                                  \n",
            " block_13_depthwise_relu (R  (None, 7, 7, 576)            0         ['block_13_depthwise_BN[0][0]'\n",
            " eLU)                                                               ]                             \n",
            "                                                                                                  \n",
            " block_13_project (Conv2D)   (None, 7, 7, 160)            92160     ['block_13_depthwise_relu[0][0\n",
            "                                                                    ]']                           \n",
            "                                                                                                  \n",
            " block_13_project_BN (Batch  (None, 7, 7, 160)            640       ['block_13_project[0][0]']    \n",
            " Normalization)                                                                                   \n",
            "                                                                                                  \n",
            " block_14_expand (Conv2D)    (None, 7, 7, 960)            153600    ['block_13_project_BN[0][0]'] \n",
            "                                                                                                  \n",
            " block_14_expand_BN (BatchN  (None, 7, 7, 960)            3840      ['block_14_expand[0][0]']     \n",
            " ormalization)                                                                                    \n",
            "                                                                                                  \n",
            " block_14_expand_relu (ReLU  (None, 7, 7, 960)            0         ['block_14_expand_BN[0][0]']  \n",
            " )                                                                                                \n",
            "                                                                                                  \n",
            " block_14_depthwise (Depthw  (None, 7, 7, 960)            8640      ['block_14_expand_relu[0][0]']\n",
            " iseConv2D)                                                                                       \n",
            "                                                                                                  \n",
            " block_14_depthwise_BN (Bat  (None, 7, 7, 960)            3840      ['block_14_depthwise[0][0]']  \n",
            " chNormalization)                                                                                 \n",
            "                                                                                                  \n",
            " block_14_depthwise_relu (R  (None, 7, 7, 960)            0         ['block_14_depthwise_BN[0][0]'\n",
            " eLU)                                                               ]                             \n",
            "                                                                                                  \n",
            " block_14_project (Conv2D)   (None, 7, 7, 160)            153600    ['block_14_depthwise_relu[0][0\n",
            "                                                                    ]']                           \n",
            "                                                                                                  \n",
            " block_14_project_BN (Batch  (None, 7, 7, 160)            640       ['block_14_project[0][0]']    \n",
            " Normalization)                                                                                   \n",
            "                                                                                                  \n",
            " block_14_add (Add)          (None, 7, 7, 160)            0         ['block_13_project_BN[0][0]', \n",
            "                                                                     'block_14_project_BN[0][0]'] \n",
            "                                                                                                  \n",
            " block_15_expand (Conv2D)    (None, 7, 7, 960)            153600    ['block_14_add[0][0]']        \n",
            "                                                                                                  \n",
            " block_15_expand_BN (BatchN  (None, 7, 7, 960)            3840      ['block_15_expand[0][0]']     \n",
            " ormalization)                                                                                    \n",
            "                                                                                                  \n",
            " block_15_expand_relu (ReLU  (None, 7, 7, 960)            0         ['block_15_expand_BN[0][0]']  \n",
            " )                                                                                                \n",
            "                                                                                                  \n",
            " block_15_depthwise (Depthw  (None, 7, 7, 960)            8640      ['block_15_expand_relu[0][0]']\n",
            " iseConv2D)                                                                                       \n",
            "                                                                                                  \n",
            " block_15_depthwise_BN (Bat  (None, 7, 7, 960)            3840      ['block_15_depthwise[0][0]']  \n",
            " chNormalization)                                                                                 \n",
            "                                                                                                  \n",
            " block_15_depthwise_relu (R  (None, 7, 7, 960)            0         ['block_15_depthwise_BN[0][0]'\n",
            " eLU)                                                               ]                             \n",
            "                                                                                                  \n",
            " block_15_project (Conv2D)   (None, 7, 7, 160)            153600    ['block_15_depthwise_relu[0][0\n",
            "                                                                    ]']                           \n",
            "                                                                                                  \n",
            " block_15_project_BN (Batch  (None, 7, 7, 160)            640       ['block_15_project[0][0]']    \n",
            " Normalization)                                                                                   \n",
            "                                                                                                  \n",
            " block_15_add (Add)          (None, 7, 7, 160)            0         ['block_14_add[0][0]',        \n",
            "                                                                     'block_15_project_BN[0][0]'] \n",
            "                                                                                                  \n",
            " block_16_expand (Conv2D)    (None, 7, 7, 960)            153600    ['block_15_add[0][0]']        \n",
            "                                                                                                  \n",
            " block_16_expand_BN (BatchN  (None, 7, 7, 960)            3840      ['block_16_expand[0][0]']     \n",
            " ormalization)                                                                                    \n",
            "                                                                                                  \n",
            " block_16_expand_relu (ReLU  (None, 7, 7, 960)            0         ['block_16_expand_BN[0][0]']  \n",
            " )                                                                                                \n",
            "                                                                                                  \n",
            " block_16_depthwise (Depthw  (None, 7, 7, 960)            8640      ['block_16_expand_relu[0][0]']\n",
            " iseConv2D)                                                                                       \n",
            "                                                                                                  \n",
            " block_16_depthwise_BN (Bat  (None, 7, 7, 960)            3840      ['block_16_depthwise[0][0]']  \n",
            " chNormalization)                                                                                 \n",
            "                                                                                                  \n",
            " block_16_depthwise_relu (R  (None, 7, 7, 960)            0         ['block_16_depthwise_BN[0][0]'\n",
            " eLU)                                                               ]                             \n",
            "                                                                                                  \n",
            " block_16_project (Conv2D)   (None, 7, 7, 320)            307200    ['block_16_depthwise_relu[0][0\n",
            "                                                                    ]']                           \n",
            "                                                                                                  \n",
            " block_16_project_BN (Batch  (None, 7, 7, 320)            1280      ['block_16_project[0][0]']    \n",
            " Normalization)                                                                                   \n",
            "                                                                                                  \n",
            " Conv_1 (Conv2D)             (None, 7, 7, 1280)           409600    ['block_16_project_BN[0][0]'] \n",
            "                                                                                                  \n",
            " Conv_1_bn (BatchNormalizat  (None, 7, 7, 1280)           5120      ['Conv_1[0][0]']              \n",
            " ion)                                                                                             \n",
            "                                                                                                  \n",
            " out_relu (ReLU)             (None, 7, 7, 1280)           0         ['Conv_1_bn[0][0]']           \n",
            "                                                                                                  \n",
            " global_average_pooling2d (  (None, 1280)                 0         ['out_relu[0][0]']            \n",
            " GlobalAveragePooling2D)                                                                          \n",
            "                                                                                                  \n",
            " dense (Dense)               (None, 256)                  327936    ['global_average_pooling2d[0][\n",
            "                                                                    0]']                          \n",
            "                                                                                                  \n",
            " dropout (Dropout)           (None, 256)                  0         ['dense[0][0]']               \n",
            "                                                                                                  \n",
            " dense_1 (Dense)             (None, 6)                    1542      ['dropout[0][0]']             \n",
            "                                                                                                  \n",
            "==================================================================================================\n",
            "Total params: 2587462 (9.87 MB)\n",
            "Trainable params: 1381958 (5.27 MB)\n",
            "Non-trainable params: 1205504 (4.60 MB)\n",
            "__________________________________________________________________________________________________\n",
            "None\n"
          ]
        }
      ],
      "source": [
        "model.compile(optimizer=tf.keras.optimizers.Adam(learning_rate=0.0001),\n",
        "              loss='categorical_crossentropy',\n",
        "              metrics=['accuracy'])\n",
        "\n",
        "print(model.summary())"
      ]
    },
    {
      "cell_type": "markdown",
      "metadata": {
        "id": "lP1N7djbG0HI"
      },
      "source": [
        "Training Model"
      ]
    },
    {
      "cell_type": "code",
      "execution_count": 14,
      "metadata": {
        "colab": {
          "base_uri": "https://localhost:8080/"
        },
        "id": "suMwWIcyyUkH",
        "outputId": "d094d581-e2bf-4107-ae57-c6cf43e02c38"
      },
      "outputs": [
        {
          "output_type": "stream",
          "name": "stdout",
          "text": [
            "Epoch 1/70\n",
            "60/60 [==============================] - 49s 622ms/step - loss: 5.4970 - accuracy: 0.4992 - val_loss: 5.2037 - val_accuracy: 0.6029\n",
            "Epoch 2/70\n",
            "60/60 [==============================] - 35s 593ms/step - loss: 4.8426 - accuracy: 0.6992 - val_loss: 4.8803 - val_accuracy: 0.6434\n",
            "Epoch 3/70\n",
            "60/60 [==============================] - 36s 607ms/step - loss: 4.5425 - accuracy: 0.7567 - val_loss: 4.8662 - val_accuracy: 0.6158\n",
            "Epoch 4/70\n",
            "60/60 [==============================] - 36s 605ms/step - loss: 4.2871 - accuracy: 0.7833 - val_loss: 4.3900 - val_accuracy: 0.7151\n",
            "Epoch 5/70\n",
            "60/60 [==============================] - 35s 585ms/step - loss: 4.0595 - accuracy: 0.7969 - val_loss: 4.2307 - val_accuracy: 0.7169\n",
            "Epoch 6/70\n",
            "60/60 [==============================] - 36s 605ms/step - loss: 3.8275 - accuracy: 0.8219 - val_loss: 3.9911 - val_accuracy: 0.7537\n",
            "Epoch 7/70\n",
            "60/60 [==============================] - 36s 593ms/step - loss: 3.6395 - accuracy: 0.8334 - val_loss: 3.7369 - val_accuracy: 0.7757\n",
            "Epoch 8/70\n",
            "60/60 [==============================] - 38s 642ms/step - loss: 3.4569 - accuracy: 0.8360 - val_loss: 3.5178 - val_accuracy: 0.8033\n",
            "Epoch 9/70\n",
            "60/60 [==============================] - 35s 585ms/step - loss: 3.2743 - accuracy: 0.8517 - val_loss: 3.3340 - val_accuracy: 0.8070\n",
            "Epoch 10/70\n",
            "60/60 [==============================] - 36s 607ms/step - loss: 3.1195 - accuracy: 0.8533 - val_loss: 3.0228 - val_accuracy: 0.8493\n",
            "Epoch 11/70\n",
            "60/60 [==============================] - 36s 595ms/step - loss: 2.9606 - accuracy: 0.8621 - val_loss: 2.8999 - val_accuracy: 0.8419\n",
            "Epoch 12/70\n",
            "60/60 [==============================] - 37s 616ms/step - loss: 2.8215 - accuracy: 0.8569 - val_loss: 2.7449 - val_accuracy: 0.8511\n",
            "Epoch 13/70\n",
            "60/60 [==============================] - 35s 583ms/step - loss: 2.6779 - accuracy: 0.8663 - val_loss: 2.5692 - val_accuracy: 0.8768\n",
            "Epoch 14/70\n",
            "60/60 [==============================] - 37s 610ms/step - loss: 2.5180 - accuracy: 0.8867 - val_loss: 2.4721 - val_accuracy: 0.8676\n",
            "Epoch 15/70\n",
            "60/60 [==============================] - 35s 589ms/step - loss: 2.3979 - accuracy: 0.8768 - val_loss: 2.2895 - val_accuracy: 0.8915\n",
            "Epoch 16/70\n",
            "60/60 [==============================] - 38s 623ms/step - loss: 2.2917 - accuracy: 0.8778 - val_loss: 2.1764 - val_accuracy: 0.8934\n",
            "Epoch 17/70\n",
            "60/60 [==============================] - 37s 611ms/step - loss: 2.1614 - accuracy: 0.9003 - val_loss: 2.0732 - val_accuracy: 0.9007\n",
            "Epoch 18/70\n",
            "60/60 [==============================] - 37s 609ms/step - loss: 2.0869 - accuracy: 0.8872 - val_loss: 1.9907 - val_accuracy: 0.8934\n",
            "Epoch 19/70\n",
            "60/60 [==============================] - 35s 587ms/step - loss: 1.9846 - accuracy: 0.8903 - val_loss: 1.9571 - val_accuracy: 0.8842\n",
            "Epoch 20/70\n",
            "60/60 [==============================] - 36s 606ms/step - loss: 1.8767 - accuracy: 0.8945 - val_loss: 1.8446 - val_accuracy: 0.8860\n",
            "Epoch 21/70\n",
            "60/60 [==============================] - 35s 581ms/step - loss: 1.7585 - accuracy: 0.9133 - val_loss: 1.7324 - val_accuracy: 0.9026\n",
            "Epoch 22/70\n",
            "60/60 [==============================] - 37s 618ms/step - loss: 1.6913 - accuracy: 0.9034 - val_loss: 1.6818 - val_accuracy: 0.8842\n",
            "Epoch 23/70\n",
            "60/60 [==============================] - 37s 616ms/step - loss: 1.6171 - accuracy: 0.8982 - val_loss: 1.6171 - val_accuracy: 0.8915\n",
            "Epoch 24/70\n",
            "60/60 [==============================] - 35s 586ms/step - loss: 1.5102 - accuracy: 0.9159 - val_loss: 1.5559 - val_accuracy: 0.8824\n",
            "Epoch 25/70\n",
            "60/60 [==============================] - 35s 584ms/step - loss: 1.4378 - accuracy: 0.9159 - val_loss: 1.5743 - val_accuracy: 0.8676\n",
            "Epoch 26/70\n",
            "60/60 [==============================] - 36s 608ms/step - loss: 1.3719 - accuracy: 0.9201 - val_loss: 1.4776 - val_accuracy: 0.8787\n",
            "Epoch 27/70\n",
            "60/60 [==============================] - 35s 578ms/step - loss: 1.3239 - accuracy: 0.9159 - val_loss: 1.3619 - val_accuracy: 0.8750\n",
            "Epoch 28/70\n",
            "60/60 [==============================] - 36s 606ms/step - loss: 1.2615 - accuracy: 0.9112 - val_loss: 1.3453 - val_accuracy: 0.8732\n",
            "Epoch 29/70\n",
            "60/60 [==============================] - 36s 597ms/step - loss: 1.1953 - accuracy: 0.9175 - val_loss: 1.3413 - val_accuracy: 0.8732\n",
            "Epoch 30/70\n",
            "60/60 [==============================] - 38s 629ms/step - loss: 1.1226 - accuracy: 0.9248 - val_loss: 1.3830 - val_accuracy: 0.8419\n",
            "Epoch 31/70\n",
            "60/60 [==============================] - 36s 602ms/step - loss: 1.0767 - accuracy: 0.9238 - val_loss: 1.2341 - val_accuracy: 0.8787\n",
            "Epoch 32/70\n",
            "60/60 [==============================] - 37s 605ms/step - loss: 1.0206 - accuracy: 0.9285 - val_loss: 1.1406 - val_accuracy: 0.8860\n",
            "Epoch 33/70\n",
            "60/60 [==============================] - 35s 587ms/step - loss: 0.9804 - accuracy: 0.9285 - val_loss: 1.1431 - val_accuracy: 0.8750\n",
            "Epoch 34/70\n",
            "60/60 [==============================] - 36s 604ms/step - loss: 0.9256 - accuracy: 0.9321 - val_loss: 1.1187 - val_accuracy: 0.8842\n",
            "Epoch 35/70\n",
            "60/60 [==============================] - 35s 583ms/step - loss: 0.8974 - accuracy: 0.9274 - val_loss: 1.1216 - val_accuracy: 0.8548\n",
            "Epoch 36/70\n",
            "60/60 [==============================] - 35s 583ms/step - loss: 0.8643 - accuracy: 0.9326 - val_loss: 1.0835 - val_accuracy: 0.8658\n",
            "Epoch 37/70\n",
            "60/60 [==============================] - 35s 581ms/step - loss: 0.7902 - accuracy: 0.9462 - val_loss: 1.0680 - val_accuracy: 0.8621\n",
            "Epoch 38/70\n",
            "60/60 [==============================] - 38s 630ms/step - loss: 0.7693 - accuracy: 0.9347 - val_loss: 1.0093 - val_accuracy: 0.8621\n",
            "Epoch 39/70\n",
            "60/60 [==============================] - 36s 597ms/step - loss: 0.7624 - accuracy: 0.9295 - val_loss: 0.9787 - val_accuracy: 0.8511\n",
            "Epoch 40/70\n",
            "60/60 [==============================] - 36s 603ms/step - loss: 0.7135 - accuracy: 0.9347 - val_loss: 1.1509 - val_accuracy: 0.8309\n",
            "Epoch 41/70\n",
            "60/60 [==============================] - 36s 593ms/step - loss: 0.6891 - accuracy: 0.9337 - val_loss: 1.0011 - val_accuracy: 0.8419\n",
            "Epoch 42/70\n",
            "60/60 [==============================] - 36s 594ms/step - loss: 0.6529 - accuracy: 0.9337 - val_loss: 0.8177 - val_accuracy: 0.8934\n",
            "Epoch 43/70\n",
            "60/60 [==============================] - 36s 600ms/step - loss: 0.6113 - accuracy: 0.9399 - val_loss: 0.7918 - val_accuracy: 0.8915\n",
            "Epoch 44/70\n",
            "60/60 [==============================] - 35s 587ms/step - loss: 0.6054 - accuracy: 0.9347 - val_loss: 0.7823 - val_accuracy: 0.8915\n",
            "Epoch 45/70\n",
            "60/60 [==============================] - 35s 594ms/step - loss: 0.5669 - accuracy: 0.9426 - val_loss: 0.8217 - val_accuracy: 0.8842\n",
            "Epoch 46/70\n",
            "60/60 [==============================] - 37s 608ms/step - loss: 0.5422 - accuracy: 0.9478 - val_loss: 0.7663 - val_accuracy: 0.8934\n",
            "Epoch 47/70\n",
            "60/60 [==============================] - 37s 620ms/step - loss: 0.5293 - accuracy: 0.9426 - val_loss: 0.7923 - val_accuracy: 0.8732\n",
            "Epoch 48/70\n",
            "60/60 [==============================] - 35s 586ms/step - loss: 0.4920 - accuracy: 0.9514 - val_loss: 0.6853 - val_accuracy: 0.8952\n",
            "Epoch 49/70\n",
            "60/60 [==============================] - 36s 605ms/step - loss: 0.4864 - accuracy: 0.9462 - val_loss: 0.6338 - val_accuracy: 0.9026\n",
            "Epoch 50/70\n",
            "60/60 [==============================] - 35s 583ms/step - loss: 0.4688 - accuracy: 0.9452 - val_loss: 0.6458 - val_accuracy: 0.8952\n",
            "Epoch 51/70\n",
            "60/60 [==============================] - 36s 607ms/step - loss: 0.4327 - accuracy: 0.9493 - val_loss: 0.7010 - val_accuracy: 0.8915\n",
            "Epoch 52/70\n",
            "60/60 [==============================] - 35s 579ms/step - loss: 0.4391 - accuracy: 0.9446 - val_loss: 0.6617 - val_accuracy: 0.8732\n",
            "Epoch 53/70\n",
            "60/60 [==============================] - 38s 640ms/step - loss: 0.4298 - accuracy: 0.9431 - val_loss: 0.5398 - val_accuracy: 0.9265\n",
            "Epoch 54/70\n",
            "60/60 [==============================] - 34s 575ms/step - loss: 0.3963 - accuracy: 0.9520 - val_loss: 0.5255 - val_accuracy: 0.9210\n",
            "Epoch 55/70\n",
            "60/60 [==============================] - 37s 611ms/step - loss: 0.3668 - accuracy: 0.9525 - val_loss: 0.5805 - val_accuracy: 0.9081\n",
            "Epoch 56/70\n",
            "60/60 [==============================] - 35s 573ms/step - loss: 0.3849 - accuracy: 0.9436 - val_loss: 0.6133 - val_accuracy: 0.9062\n",
            "Epoch 57/70\n",
            "60/60 [==============================] - 36s 606ms/step - loss: 0.3490 - accuracy: 0.9572 - val_loss: 0.6004 - val_accuracy: 0.8897\n",
            "Epoch 58/70\n",
            "60/60 [==============================] - 35s 577ms/step - loss: 0.3324 - accuracy: 0.9535 - val_loss: 0.5383 - val_accuracy: 0.9081\n",
            "Epoch 59/70\n",
            "60/60 [==============================] - 36s 606ms/step - loss: 0.3281 - accuracy: 0.9520 - val_loss: 0.5816 - val_accuracy: 0.9062\n",
            "Epoch 60/70\n",
            "60/60 [==============================] - 35s 579ms/step - loss: 0.3140 - accuracy: 0.9535 - val_loss: 0.6447 - val_accuracy: 0.8750\n",
            "Epoch 61/70\n",
            "60/60 [==============================] - 38s 635ms/step - loss: 0.3336 - accuracy: 0.9478 - val_loss: 0.6915 - val_accuracy: 0.8713\n",
            "Epoch 62/70\n",
            "60/60 [==============================] - 34s 576ms/step - loss: 0.2817 - accuracy: 0.9608 - val_loss: 0.5807 - val_accuracy: 0.8897\n",
            "Epoch 63/70\n",
            "60/60 [==============================] - 36s 596ms/step - loss: 0.2834 - accuracy: 0.9582 - val_loss: 0.4774 - val_accuracy: 0.9154\n",
            "Epoch 64/70\n",
            "60/60 [==============================] - 36s 607ms/step - loss: 0.2692 - accuracy: 0.9593 - val_loss: 0.5007 - val_accuracy: 0.9044\n",
            "Epoch 65/70\n",
            "60/60 [==============================] - 35s 575ms/step - loss: 0.2871 - accuracy: 0.9509 - val_loss: 0.5129 - val_accuracy: 0.9044\n",
            "Epoch 66/70\n",
            "60/60 [==============================] - 36s 609ms/step - loss: 0.2562 - accuracy: 0.9645 - val_loss: 0.4886 - val_accuracy: 0.9081\n",
            "Epoch 67/70\n",
            "60/60 [==============================] - 35s 581ms/step - loss: 0.2738 - accuracy: 0.9457 - val_loss: 0.4253 - val_accuracy: 0.9173\n",
            "Epoch 68/70\n",
            "60/60 [==============================] - 37s 620ms/step - loss: 0.2648 - accuracy: 0.9525 - val_loss: 0.4257 - val_accuracy: 0.9210\n",
            "Epoch 69/70\n",
            "60/60 [==============================] - 36s 605ms/step - loss: 0.2424 - accuracy: 0.9582 - val_loss: 0.5034 - val_accuracy: 0.9044\n",
            "Epoch 70/70\n",
            "60/60 [==============================] - 35s 582ms/step - loss: 0.2325 - accuracy: 0.9650 - val_loss: 0.4778 - val_accuracy: 0.9154\n"
          ]
        }
      ],
      "source": [
        "class CustomCallback(tf.keras.callbacks.Callback):\n",
        "    def on_epoch_end(self, epoch, logs=None):\n",
        "        if logs.get('accuracy') > 0.95 and logs.get('val_accuracy') > 0.95:\n",
        "            print(\"\\nAkurasi pelatihan dan validasi di atas 95%, menghentikan pelatihan!\")\n",
        "            self.model.stop_training = True\n",
        "\n",
        "callbacks = [\n",
        "    CustomCallback()\n",
        "]\n",
        "\n",
        "history = model.fit(\n",
        "    train_images,\n",
        "    epochs=70,\n",
        "    validation_data=val_images,\n",
        "    callbacks=callbacks\n",
        ")\n"
      ]
    },
    {
      "cell_type": "code",
      "execution_count": 15,
      "metadata": {
        "colab": {
          "base_uri": "https://localhost:8080/",
          "height": 449
        },
        "id": "k57I8ZPczIpl",
        "outputId": "dc1c47e3-ce37-4907-9c1d-30f7814fca0a"
      },
      "outputs": [
        {
          "output_type": "display_data",
          "data": {
            "text/plain": [
              "<Figure size 640x480 with 1 Axes>"
            ],
            "image/png": "[encoded data removed]"
          },
          "metadata": {}
        }
      ],
      "source": [
        "plt.plot(history.history[\"accuracy\"], label=\"Akurasi Pelatihan\")\n",
        "plt.plot(history.history[\"val_accuracy\"], label=\"Validasi Akurasi\")\n",
        "plt.xlabel('Epoch')\n",
        "plt.ylabel('Accuracy')\n",
        "plt.legend()\n",
        "plt.show()"
      ]
    },
    {
      "cell_type": "code",
      "execution_count": 16,
      "metadata": {
        "colab": {
          "base_uri": "https://localhost:8080/",
          "height": 449
        },
        "id": "9CxlFQee5zfI",
        "outputId": "8d27fc92-08e9-419a-d431-244d8540cb09"
      },
      "outputs": [
        {
          "output_type": "display_data",
          "data": {
            "text/plain": [
              "<Figure size 640x480 with 1 Axes>"
            ],
            "image/png": "[encoded data removed]"
          },
          "metadata": {}
        }
      ],
      "source": [
        "plt.plot(history.history[\"loss\"],label=\"Kesalahan Pelatihan\")\n",
        "plt.plot(history.history[\"val_loss\"],label=\"Validasi Kesalahan\")\n",
        "plt.xlabel('Epoch')\n",
        "plt.ylabel('Accuracy')\n",
        "plt.legend()\n",
        "plt.show()"
      ]
    },
    {
      "cell_type": "code",
      "execution_count": 17,
      "metadata": {
        "colab": {
          "base_uri": "https://localhost:8080/",
          "height": 1000
        },
        "id": "2alb2xOoSiPt",
        "outputId": "7dffc56f-7844-46ef-e469-49c0989a684f"
      },
      "outputs": [
        {
          "output_type": "stream",
          "name": "stdout",
          "text": [
            "1/1 [==============================] - 1s 785ms/step\n",
            "1/1 [==============================] - 0s 29ms/step\n",
            "1/1 [==============================] - 0s 28ms/step\n",
            "1/1 [==============================] - 0s 28ms/step\n",
            "1/1 [==============================] - 0s 31ms/step\n",
            "1/1 [==============================] - 0s 29ms/step\n",
            "1/1 [==============================] - 0s 29ms/step\n",
            "1/1 [==============================] - 0s 31ms/step\n",
            "1/1 [==============================] - 0s 32ms/step\n",
            "1/1 [==============================] - 0s 28ms/step\n",
            "1/1 [==============================] - 0s 28ms/step\n",
            "1/1 [==============================] - 0s 28ms/step\n",
            "1/1 [==============================] - 0s 32ms/step\n",
            "1/1 [==============================] - 0s 31ms/step\n",
            "1/1 [==============================] - 0s 28ms/step\n",
            "1/1 [==============================] - 0s 29ms/step\n",
            "1/1 [==============================] - 0s 38ms/step\n"
          ]
        },
        {
          "output_type": "display_data",
          "data": {
            "text/plain": [
              "<Figure size 800x600 with 2 Axes>"
            ],
            "image/png": "[encoded data removed]"
          },
          "metadata": {}
        },
        {
          "output_type": "stream",
          "name": "stdout",
          "text": [
            "Classification Report:\n",
            "               precision    recall  f1-score   support\n",
            "\n",
            "        kaca       0.90      0.91      0.90        87\n",
            "      karton       0.99      0.94      0.96        80\n",
            "      kertas       0.95      0.93      0.94       122\n",
            "       logam       0.77      1.00      0.87        82\n",
            "     organik       0.95      0.95      0.95        63\n",
            "     plastik       0.97      0.80      0.88       110\n",
            "\n",
            "    accuracy                           0.92       544\n",
            "   macro avg       0.92      0.92      0.92       544\n",
            "weighted avg       0.92      0.92      0.92       544\n",
            "\n"
          ]
        }
      ],
      "source": [
        "true_labels = []\n",
        "predicted_labels = []\n",
        "\n",
        "for _ in range(len(val_images)):\n",
        "    batch_images, batch_labels = next(val_images)\n",
        "    predictions = model.predict(batch_images)\n",
        "    true_labels.extend(np.argmax(batch_labels, axis=1))\n",
        "    predicted_labels.extend(np.argmax(predictions, axis=1))\n",
        "\n",
        "cm = confusion_matrix(true_labels, predicted_labels)\n",
        "\n",
        "plt.figure(figsize=(8, 6))\n",
        "sns.heatmap(cm, annot=True, fmt='d', cmap='Blues', xticklabels=class_names, yticklabels=class_names)\n",
        "plt.xlabel('Predicted')\n",
        "plt.ylabel('True')\n",
        "plt.title('Confusion Matrix')\n",
        "plt.show()\n",
        "\n",
        "classification_rep = classification_report(true_labels, predicted_labels, target_names=class_names)\n",
        "print(\"Classification Report:\\n\", classification_rep)"
      ]
    },
    {
      "cell_type": "code",
      "execution_count": 18,
      "metadata": {
        "colab": {
          "base_uri": "https://localhost:8080/",
          "height": 124
        },
        "id": "jC8YGkB4W9CC",
        "outputId": "d7a2de8e-df23-4341-ea03-f2db008bef52"
      },
      "outputs": [
        {
          "output_type": "display_data",
          "data": {
            "text/plain": [
              "<IPython.core.display.Javascript object>"
            ],
            "application/javascript": [
              "\n",
              "        async function takePhoto(quality) {\n",
              "            const div = document.createElement('div');\n",
              "            const capture = document.createElement('button');\n",
              "            capture.textContent = 'Capture';\n",
              "            div.appendChild(capture);\n",
              "\n",
              "            const video = document.createElement('video');\n",
              "            video.style.display = 'block';\n",
              "            const stream = await navigator.mediaDevices.getUserMedia({video: true});\n",
              "\n",
              "            document.body.appendChild(div);\n",
              "            div.appendChild(video);\n",
              "            video.srcObject = stream;\n",
              "            await new Promise((resolve) => video.onloadedmetadata = resolve);\n",
              "            await video.play();\n",
              "\n",
              "            google.colab.output.setIframeHeight(document.documentElement.scrollHeight, true);\n",
              "\n",
              "            await new Promise((resolve) => capture.onclick = resolve);\n",
              "\n",
              "            const canvas = document.createElement('canvas');\n",
              "            canvas.width = video.videoWidth;\n",
              "            canvas.height = video.videoHeight;\n",
              "            canvas.getContext('2d').drawImage(video, 0, 0);\n",
              "            stream.getTracks().forEach(track => track.stop());\n",
              "            div.remove();\n",
              "            return canvas.toDataURL('image/jpeg', quality);\n",
              "        }\n",
              "        takePhoto({quality});\n",
              "    "
            ]
          },
          "metadata": {}
        },
        {
          "output_type": "stream",
          "name": "stdout",
          "text": [
            "1/1 [==============================] - 1s 1s/step\n",
            "Sampah kaca\n",
            "Jenis Sampah: anorganik\n",
            "Cara Penanganan: Lampu Hias,Kaca bekas dapat digunakan sebagai bahan baku untuk membuat lampu hias dengan berbagai desain menarik yang dapat digunakan sebagai dekorasi di rumah atau kantor, Lukisan Kaca,Kaca bekas dapat diubah menjadi lukisan kaca yang indah dengan menggunakan cat kaca dan teknik dekoratif, Miniatur Kebun Kaca,Kaca bekas dapat dijadikan bahan untuk membuat miniatur kebun kaca dengan berbagai tanaman hias kecil, Hiasan Dinding,Kaca bekas dapat diubah menjadi hiasan dinding dengan menggabungkan potongan-potongan kaca menjadi bentuk atau pola yang menarik, Topeng Kaca,Kaca bekas dapat dijadikan bahan untuk membuat topeng kaca yang unik dengan berbagai motif dan warna, Botol Kaca,Botol kaca bekas dapat didaur ulang menjadi botol kaca baru atau diubah menjadi berbagai produk kaca lainnya, Gelas Kaca,Botol kaca bekas dapat diubah menjadi gelas kaca dengan proses peleburan dan pembentukan kembali, Miniatur Vas,Kaca bekas dapat diubah menjadi miniatur vas dengan berbagai bentuk dan ukuran yang cocok sebagai dekorasi meja atau rak, Piring Kaca,Kaca bekas dapat diubah menjadi piring kaca dengan proses peleburan dan pembentukan kembali untuk keperluan makan atau dekorasi, Lampu Tidur,Botol kaca bekas dapat diubah menjadi lampu tidur dengan menambahkan lampu LED di dalamnya untuk cahaya yang lembut dan menyenangkan, Lainnya,Bahan Baku Industri,Kaca yang terkontaminasi atau pecah bisa dijual ke pabrik kaca untuk digunakan sebagai bahan baku dalam pembuatan kaca baru atau produk kaca lainnya\n",
            "Deskripsi: Sampah kaca adalah sampah dengan bahan bening dan keras yang dibuat dari lelehan pasir silika yang dipanaskan.\n"
          ]
        }
      ],
      "source": [
        "from google.colab import output\n",
        "from IPython.display import display, Javascript, Image\n",
        "from base64 import b64decode\n",
        "import cv2\n",
        "import numpy as np\n",
        "import tensorflow as tf\n",
        "from keras.preprocessing import image\n",
        "\n",
        "dataset = pd.read_csv(\"datasetnew.csv\", delimiter=';')\n",
        "\n",
        "def take_photo(filename='photo.jpg', quality=0.8):\n",
        "    js = Javascript('''\n",
        "        async function takePhoto(quality) {\n",
        "            const div = document.createElement('div');\n",
        "            const capture = document.createElement('button');\n",
        "            capture.textContent = 'Capture';\n",
        "            div.appendChild(capture);\n",
        "\n",
        "            const video = document.createElement('video');\n",
        "            video.style.display = 'block';\n",
        "            const stream = await navigator.mediaDevices.getUserMedia({video: true});\n",
        "\n",
        "            document.body.appendChild(div);\n",
        "            div.appendChild(video);\n",
        "            video.srcObject = stream;\n",
        "            await new Promise((resolve) => video.onloadedmetadata = resolve);\n",
        "            await video.play();\n",
        "\n",
        "            google.colab.output.setIframeHeight(document.documentElement.scrollHeight, true);\n",
        "\n",
        "            await new Promise((resolve) => capture.onclick = resolve);\n",
        "\n",
        "            const canvas = document.createElement('canvas');\n",
        "            canvas.width = video.videoWidth;\n",
        "            canvas.height = video.videoHeight;\n",
        "            canvas.getContext('2d').drawImage(video, 0, 0);\n",
        "            stream.getTracks().forEach(track => track.stop());\n",
        "            div.remove();\n",
        "            return canvas.toDataURL('image/jpeg', quality);\n",
        "        }\n",
        "        takePhoto({quality});\n",
        "    ''')\n",
        "    display(js)\n",
        "    data = output.eval_js('takePhoto({})'.format(quality))\n",
        "    binary = b64decode(data.split(',')[1])\n",
        "    with open(filename, 'wb') as f:\n",
        "        f.write(binary)\n",
        "    return filename\n",
        "\n",
        "def preprocess_image(image_path):\n",
        "    img = image.load_img(image_path, target_size=(224, 224))\n",
        "    img_array = image.img_to_array(img)\n",
        "    img_array = np.expand_dims(img_array, axis=0)\n",
        "    img_array = img_array / 255.0\n",
        "    return img_array\n",
        "\n",
        "photo_filename = take_photo()\n",
        "\n",
        "preprocessed_image = preprocess_image(photo_filename)\n",
        "\n",
        "predictions = model.predict(preprocessed_image)\n",
        "\n",
        "predicted_class = np.argmax(predictions)\n",
        "\n",
        "class_indices = train_images.class_indices\n",
        "class_names = list(class_indices.keys())\n",
        "predicted_class_name = class_names[predicted_class]\n",
        "print(f'Sampah {predicted_class_name}')\n",
        "\n",
        "for index, row in dataset.iterrows():\n",
        "    if row['nama'] == predicted_class_name:\n",
        "        print(f\"Jenis Sampah: {row['jenis']}\")\n",
        "        print(f\"Cara Penanganan: {row['cara_penanganan']}\")\n",
        "        print(f\"Deskripsi: {row['deskripsi']}\")\n"
      ]
    },
    {
      "cell_type": "markdown",
      "metadata": {
        "id": "s-yFuMCFhmr0"
      },
      "source": [
        "4. Model Evaluation"
      ]
    },
    {
      "cell_type": "code",
      "source": [
        "# coba coba metada dadi tflite\n",
        "import h5py\n",
        "import json\n",
        "\n",
        "# Save the model\n",
        "model.save('cnn_model.h5')\n",
        "\n",
        "# Add metadata to the HDF5 file\n",
        "with h5py.File('cnn_model.h5', 'a') as f:\n",
        "    f.attrs['author'] = 'John Doe'\n",
        "    f.attrs['version'] = '1.0'\n",
        "    f.attrs['description'] = 'CNN model for image classification'\n",
        "    f.attrs['optimizer'] = 'adam'\n",
        "    f.attrs['loss_function'] = 'sparse_categorical_crossentropy'\n",
        "\n",
        "# Convert the model to TensorFlow Lite\n",
        "converter = tf.lite.TFLiteConverter.from_keras_model(model)\n",
        "tflite_model = converter.convert()\n",
        "\n",
        "# Save the TFLite model\n",
        "with open('cnn_model_with_metadata.tflite', 'wb') as f:\n",
        "    f.write(tflite_model)\n",
        "\n",
        "print(\"TensorFlow Lite model with metadata saved as 'cnn_model_with_metadata.tflite'\")\n"
      ],
      "metadata": {
        "colab": {
          "base_uri": "https://localhost:8080/"
        },
        "id": "Kc-4lIn8EOG_",
        "outputId": "9570da0a-8d43-48f8-d4dc-1ec44098c8d0"
      },
      "execution_count": 19,
      "outputs": [
        {
          "output_type": "stream",
          "name": "stderr",
          "text": [
            "/usr/local/lib/python3.10/dist-packages/keras/src/engine/training.py:3103: UserWarning: You are saving your model as an HDF5 file via `model.save()`. This file format is considered legacy. We recommend using instead the native Keras format, e.g. `model.save('my_model.keras')`.\n",
            "  saving_api.save_model(\n"
          ]
        },
        {
          "output_type": "stream",
          "name": "stdout",
          "text": [
            "TensorFlow Lite model with metadata saved as 'cnn_model_with_metadata.tflite'\n"
          ]
        }
      ]
    },
    {
      "cell_type": "code",
      "source": [
        "converter = tf.lite.TFLiteConverter.from_keras_model(model)\n",
        "tflite_model = converter.convert()\n",
        "\n",
        "with open(\"model.tflite\", \"wb\") as f:\n",
        "  f.write(tflite_model)"
      ],
      "metadata": {
        "id": "AmD_5zzz8HAQ"
      },
      "execution_count": null,
      "outputs": []
    },
    {
      "cell_type": "code",
      "source": [
        "\n",
        "  model.save(\"model.h5\")\n",
        "print(\"Keras model saved as 'model.h5'\")"
      ],
      "metadata": {
        "colab": {
          "base_uri": "https://localhost:8080/"
        },
        "id": "er_b2ujH8IhK",
        "outputId": "40bf5ead-b3d4-4e3d-a68b-87c221264d1f"
      },
      "execution_count": null,
      "outputs": [
        {
          "output_type": "stream",
          "name": "stderr",
          "text": [
            "/usr/local/lib/python3.10/dist-packages/keras/src/engine/training.py:3103: UserWarning: You are saving your model as an HDF5 file via `model.save()`. This file format is considered legacy. We recommend using instead the native Keras format, e.g. `model.save('my_model.keras')`.\n",
            "  saving_api.save_model(\n"
          ]
        },
        {
          "output_type": "stream",
          "name": "stdout",
          "text": [
            "Keras model saved as 'model.h5'\n"
          ]
        }
      ]
    },
    {
      "cell_type": "code",
      "source": [
        "#coba coba metadata\n",
        "import h5py\n",
        "\n",
        "# Save the model\n",
        "model.save('metada_model.h5')\n",
        "\n",
        "# Add metadata to the HDF5 file\n",
        "with h5py.File('cnn_model.h5', 'a') as f:\n",
        "    f.attrs['author'] = 'John Doe'\n",
        "    f.attrs['version'] = '1.0'\n",
        "    f.attrs['description'] = 'CNN model for image classification'\n",
        "    f.attrs['optimizer'] = 'adam'\n",
        "    f.attrs['loss_function'] = 'sparse_categorical_crossentropy'\n"
      ],
      "metadata": {
        "colab": {
          "base_uri": "https://localhost:8080/"
        },
        "id": "F6LmdO4t9yqv",
        "outputId": "a83c615b-a354-4783-e27c-2e2e264c40e4"
      },
      "execution_count": null,
      "outputs": [
        {
          "output_type": "stream",
          "name": "stderr",
          "text": [
            "/usr/local/lib/python3.10/dist-packages/keras/src/engine/training.py:3103: UserWarning: You are saving your model as an HDF5 file via `model.save()`. This file format is considered legacy. We recommend using instead the native Keras format, e.g. `model.save('my_model.keras')`.\n",
            "  saving_api.save_model(\n"
          ]
        }
      ]
    },
    {
      "cell_type": "code",
      "source": [
        "#coba coba metadata 2\n",
        "\n",
        "import json\n",
        "\n",
        "# Save the model\n",
        "model.save('cnn_model_savedmodel', save_format='tf')\n",
        "\n",
        "# Add metadata to the SavedModel\n",
        "metadata = {\n",
        "    'author': 'John Doe',\n",
        "    'version': '1.0',\n",
        "    'description': 'CNN model for image classification',\n",
        "    'optimizer': 'adam',\n",
        "    'loss_function': 'sparse_categorical_crossentropy'\n",
        "}\n",
        "\n",
        "# Save the metadata as a JSON file\n",
        "with open('cnn_model_savedmodel/metadata.json', 'w') as f:\n",
        "    json.dump(metadata, f)"
      ],
      "metadata": {
        "id": "RTBR5gRZ-xP4"
      },
      "execution_count": null,
      "outputs": []
    },
    {
      "cell_type": "code",
      "source": [
        "from keras.models import load_model\n",
        "\n",
        "# Pastikan Anda menggunakan format HDF5\n",
        "model = load_model(\"model.h5\", custom_objects={'DepthwiseConv2D': tf.keras.layers.DepthwiseConv2D})\n",
        "\n",
        "print(\"Model loaded successfully.\")\n"
      ],
      "metadata": {
        "colab": {
          "base_uri": "https://localhost:8080/",
          "height": 373
        },
        "id": "a1A5ie1bojF1",
        "outputId": "850f1bc5-4154-484a-c832-03f21eb7d03e"
      },
      "execution_count": null,
      "outputs": [
        {
          "output_type": "error",
          "ename": "OSError",
          "evalue": "No file or directory found at model.h5",
          "traceback": [
            "\u001b[0;31m---------------------------------------------------------------------------\u001b[0m",
            "\u001b[0;31mOSError\u001b[0m                                   Traceback (most recent call last)",
            "\u001b[0;32m<ipython-input-19-07dbf8f7a299>\u001b[0m in \u001b[0;36m<cell line: 4>\u001b[0;34m()\u001b[0m\n\u001b[1;32m      2\u001b[0m \u001b[0;34m\u001b[0m\u001b[0m\n\u001b[1;32m      3\u001b[0m \u001b[0;31m# Pastikan Anda menggunakan format HDF5\u001b[0m\u001b[0;34m\u001b[0m\u001b[0;34m\u001b[0m\u001b[0m\n\u001b[0;32m----> 4\u001b[0;31m \u001b[0mmodel\u001b[0m \u001b[0;34m=\u001b[0m \u001b[0mload_model\u001b[0m\u001b[0;34m(\u001b[0m\u001b[0;34m\"model.h5\"\u001b[0m\u001b[0;34m,\u001b[0m \u001b[0mcustom_objects\u001b[0m\u001b[0;34m=\u001b[0m\u001b[0;34m{\u001b[0m\u001b[0;34m'DepthwiseConv2D'\u001b[0m\u001b[0;34m:\u001b[0m \u001b[0mtf\u001b[0m\u001b[0;34m.\u001b[0m\u001b[0mkeras\u001b[0m\u001b[0;34m.\u001b[0m\u001b[0mlayers\u001b[0m\u001b[0;34m.\u001b[0m\u001b[0mDepthwiseConv2D\u001b[0m\u001b[0;34m}\u001b[0m\u001b[0;34m)\u001b[0m\u001b[0;34m\u001b[0m\u001b[0;34m\u001b[0m\u001b[0m\n\u001b[0m\u001b[1;32m      5\u001b[0m \u001b[0;34m\u001b[0m\u001b[0m\n\u001b[1;32m      6\u001b[0m \u001b[0mprint\u001b[0m\u001b[0;34m(\u001b[0m\u001b[0;34m\"Model loaded successfully.\"\u001b[0m\u001b[0;34m)\u001b[0m\u001b[0;34m\u001b[0m\u001b[0;34m\u001b[0m\u001b[0m\n",
            "\u001b[0;32m/usr/local/lib/python3.10/dist-packages/keras/src/saving/saving_api.py\u001b[0m in \u001b[0;36mload_model\u001b[0;34m(filepath, custom_objects, compile, safe_mode, **kwargs)\u001b[0m\n\u001b[1;32m    260\u001b[0m \u001b[0;34m\u001b[0m\u001b[0m\n\u001b[1;32m    261\u001b[0m     \u001b[0;31m# Legacy case.\u001b[0m\u001b[0;34m\u001b[0m\u001b[0;34m\u001b[0m\u001b[0m\n\u001b[0;32m--> 262\u001b[0;31m     return legacy_sm_saving_lib.load_model(\n\u001b[0m\u001b[1;32m    263\u001b[0m         \u001b[0mfilepath\u001b[0m\u001b[0;34m,\u001b[0m \u001b[0mcustom_objects\u001b[0m\u001b[0;34m=\u001b[0m\u001b[0mcustom_objects\u001b[0m\u001b[0;34m,\u001b[0m \u001b[0mcompile\u001b[0m\u001b[0;34m=\u001b[0m\u001b[0mcompile\u001b[0m\u001b[0;34m,\u001b[0m \u001b[0;34m**\u001b[0m\u001b[0mkwargs\u001b[0m\u001b[0;34m\u001b[0m\u001b[0;34m\u001b[0m\u001b[0m\n\u001b[1;32m    264\u001b[0m     )\n",
            "\u001b[0;32m/usr/local/lib/python3.10/dist-packages/keras/src/utils/traceback_utils.py\u001b[0m in \u001b[0;36merror_handler\u001b[0;34m(*args, **kwargs)\u001b[0m\n\u001b[1;32m     68\u001b[0m             \u001b[0;31m# To get the full stack trace, call:\u001b[0m\u001b[0;34m\u001b[0m\u001b[0;34m\u001b[0m\u001b[0m\n\u001b[1;32m     69\u001b[0m             \u001b[0;31m# `tf.debugging.disable_traceback_filtering()`\u001b[0m\u001b[0;34m\u001b[0m\u001b[0;34m\u001b[0m\u001b[0m\n\u001b[0;32m---> 70\u001b[0;31m             \u001b[0;32mraise\u001b[0m \u001b[0me\u001b[0m\u001b[0;34m.\u001b[0m\u001b[0mwith_traceback\u001b[0m\u001b[0;34m(\u001b[0m\u001b[0mfiltered_tb\u001b[0m\u001b[0;34m)\u001b[0m \u001b[0;32mfrom\u001b[0m \u001b[0;32mNone\u001b[0m\u001b[0;34m\u001b[0m\u001b[0;34m\u001b[0m\u001b[0m\n\u001b[0m\u001b[1;32m     71\u001b[0m         \u001b[0;32mfinally\u001b[0m\u001b[0;34m:\u001b[0m\u001b[0;34m\u001b[0m\u001b[0;34m\u001b[0m\u001b[0m\n\u001b[1;32m     72\u001b[0m             \u001b[0;32mdel\u001b[0m \u001b[0mfiltered_tb\u001b[0m\u001b[0;34m\u001b[0m\u001b[0;34m\u001b[0m\u001b[0m\n",
            "\u001b[0;32m/usr/local/lib/python3.10/dist-packages/keras/src/saving/legacy/save.py\u001b[0m in \u001b[0;36mload_model\u001b[0;34m(filepath, custom_objects, compile, options)\u001b[0m\n\u001b[1;32m    232\u001b[0m                     \u001b[0;32mif\u001b[0m \u001b[0misinstance\u001b[0m\u001b[0;34m(\u001b[0m\u001b[0mfilepath_str\u001b[0m\u001b[0;34m,\u001b[0m \u001b[0mstr\u001b[0m\u001b[0;34m)\u001b[0m\u001b[0;34m:\u001b[0m\u001b[0;34m\u001b[0m\u001b[0;34m\u001b[0m\u001b[0m\n\u001b[1;32m    233\u001b[0m                         \u001b[0;32mif\u001b[0m \u001b[0;32mnot\u001b[0m \u001b[0mtf\u001b[0m\u001b[0;34m.\u001b[0m\u001b[0mio\u001b[0m\u001b[0;34m.\u001b[0m\u001b[0mgfile\u001b[0m\u001b[0;34m.\u001b[0m\u001b[0mexists\u001b[0m\u001b[0;34m(\u001b[0m\u001b[0mfilepath_str\u001b[0m\u001b[0;34m)\u001b[0m\u001b[0;34m:\u001b[0m\u001b[0;34m\u001b[0m\u001b[0;34m\u001b[0m\u001b[0m\n\u001b[0;32m--> 234\u001b[0;31m                             raise IOError(\n\u001b[0m\u001b[1;32m    235\u001b[0m                                 \u001b[0;34mf\"No file or directory found at {filepath_str}\"\u001b[0m\u001b[0;34m\u001b[0m\u001b[0;34m\u001b[0m\u001b[0m\n\u001b[1;32m    236\u001b[0m                             )\n",
            "\u001b[0;31mOSError\u001b[0m: No file or directory found at model.h5"
          ]
        }
      ]
    }
  ],
  "metadata": {
    "colab": {
      "provenance": [],
      "gpuType": "T4"
    },
    "kernelspec": {
      "display_name": "Python 3",
      "name": "python3"
    },
    "language_info": {
      "name": "python"
    },
    "accelerator": "GPU"
  },
  "nbformat": 4,
  "nbformat_minor": 0
}